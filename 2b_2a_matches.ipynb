{
 "cells": [
  {
   "cell_type": "markdown",
   "id": "b9c981cd-734a-409c-a8c6-5853ad66ad0e",
   "metadata": {},
   "source": [
    "The objective is to compare experimental spectra with 2b matching to referense spectra \n",
    "Level 2a confirmation is pursued by matching experimental MS/MS spectra against experimental reference spectra from the MassBank of North America and report cosine matches"
   ]
  },
  {
   "cell_type": "code",
   "execution_count": null,
   "id": "6ac0c2ac-71fd-4b7c-861b-b467f02b579c",
   "metadata": {},
   "outputs": [],
   "source": [
    "import numpy as np\n",
    "import pandas as pd\n",
    "from matchms.importing import load_from_msp\n",
    "from matchms import Spectrum"
   ]
  },
  {
   "cell_type": "code",
   "execution_count": null,
   "id": "dbfefd6c-608f-41cf-be84-f66b725069c8",
   "metadata": {},
   "outputs": [],
   "source": [
    "# === Load 2b annotated features ===\n",
    "annotated_df = pd.read_csv(\"NIAS_2b_Confirmed_Annotated_With_areas.csv\", dtype=str)\n",
    "annotated_df = annotated_df[[\"Feature_ID\", \"Canonical_SMILES\"]].dropna()\n",
    "feature_to_smiles = dict(zip(annotated_df[\"Feature_ID\"].astype(str), annotated_df[\"Canonical_SMILES\"]))\n",
    "print(f\"🔍 Loaded {len(feature_to_smiles)} annotated features with SMILES.\")"
   ]
  },
  {
   "cell_type": "code",
   "execution_count": null,
   "id": "72d333a5-f117-4d4f-bff1-c138ada3e103",
   "metadata": {},
   "outputs": [],
   "source": [
    "# Step 1: Load 2b annotations\n",
    "annotations = pd.read_csv(\"NIAS_2b_Confirmed_Annotated_With_areas.csv\")\n",
    "annotations[\"Feature_ID\"] = annotations[\"Feature_ID\"].astype(str)\n",
    "feature_to_smiles = dict(zip(annotations[\"Feature_ID\"], annotations[\"Canonical_SMILES\"]))\n",
    "valid_feature_ids = set(feature_to_smiles.keys())\n",
    "\n",
    "# Step 2: Load experimental MSP and filter only those with matching Feature_IDs\n",
    "experimental_all = list(load_from_msp(\"Msp_2025_04_18_18_27_22_NIAS_allsamples_PI_03.msp\"))\n",
    "filtered_spectra = []\n",
    "\n",
    "for spec in experimental_all:\n",
    "    comment = spec.get(\"comment\")\n",
    "    if comment and \"|PEAKID=\" in comment:\n",
    "        # Extract Feature_ID from comment (after PEAKID=)\n",
    "        try:\n",
    "            for part in comment.split(\"|\"):\n",
    "                if part.startswith(\"PEAKID=\"):\n",
    "                    fid = part.replace(\"PEAKID=\", \"\").strip()\n",
    "                    break\n",
    "            if fid in valid_feature_ids:\n",
    "                spec.set(\"feature_id\", fid)\n",
    "                spec.set(\"target_smiles\", feature_to_smiles[fid])\n",
    "                filtered_spectra.append(spec)\n",
    "        except Exception as e:\n",
    "            print(f\"⚠️ Failed parsing PEAKID in comment: {comment}\")\n",
    "            continue\n",
    "\n",
    "print(f\"✅ Loaded {len(filtered_spectra)} experimental spectra linked to 2b-annotated features.\")\n"
   ]
  },
  {
   "cell_type": "code",
   "execution_count": null,
   "id": "42521033-a611-4782-a4ce-f009d7564d72",
   "metadata": {
    "scrolled": true
   },
   "outputs": [],
   "source": [
    "# === Load MassBank ===\n",
    "massbank = list(load_from_msp(\"MoNA-export-LC-MS-MS_Spectra.msp\"))\n",
    "print(f\"📚 Loaded {len(massbank)} MassBank reference spectra.\")"
   ]
  },
  {
   "cell_type": "code",
   "execution_count": null,
   "id": "64d46eb2-4c27-46de-8d2f-f986f0c3b93d",
   "metadata": {},
   "outputs": [],
   "source": [
    "# === Filter MassBank to only relevant SMILES ===\n",
    "smiles_set = set(feature_to_smiles.values())\n",
    "massbank_filtered = [s for s in massbank if s.get(\"smiles\") in smiles_set]\n",
    "print(f\"🧬 Retained {len(massbank_filtered)} MassBank entries matching annotated SMILES.\")\n"
   ]
  },
  {
   "cell_type": "code",
   "execution_count": null,
   "id": "a16c78a0-345e-40c8-a536-6dabe128ddb5",
   "metadata": {},
   "outputs": [],
   "source": [
    "# === PPM cosine similarity ===\n",
    "def cosine_similarity_ppm(spec1, spec2, ppm_tol=5, ppm_tol_low=10, mz_cutoff=100, precursor_tol_ppm=10):\n",
    "    mz1, intens1 = np.array(spec1.mz), np.array(spec1.intensities)\n",
    "    mz2, intens2 = np.array(spec2.mz), np.array(spec2.intensities)\n",
    "    precursor1 = spec1.get(\"precursor_mz\")\n",
    "\n",
    "    intens1 = intens1 / intens1.max() if intens1.max() > 0 else intens1\n",
    "    intens2 = intens2 / intens2.max() if intens2.max() > 0 else intens2\n",
    "\n",
    "    i, j = 0, 0\n",
    "    matched1, matched2 = [], []\n",
    "\n",
    "    while i < len(mz1) and j < len(mz2):\n",
    "        mz_val = mz1[i]\n",
    "        current_tol = ppm_tol_low if mz_val < mz_cutoff else ppm_tol\n",
    "        ppm_diff = abs(mz_val - mz2[j]) / mz_val * 1e6\n",
    "\n",
    "        if ppm_diff <= current_tol:\n",
    "            precursor_hit1 = abs(mz1[i] - precursor1) / precursor1 * 1e6 <= precursor_tol_ppm if precursor1 else False\n",
    "            precursor_hit2 = abs(mz2[j] - precursor1) / precursor1 * 1e6 <= precursor_tol_ppm if precursor1 else False\n",
    "            if precursor_hit1 or precursor_hit2:\n",
    "                i += 1\n",
    "                j += 1\n",
    "                continue\n",
    "            matched1.append(intens1[i])\n",
    "            matched2.append(intens2[j])\n",
    "            i += 1\n",
    "            j += 1\n",
    "        elif mz1[i] < mz2[j]:\n",
    "            i += 1\n",
    "        else:\n",
    "            j += 1\n",
    "\n",
    "    if len(matched1) == 0:\n",
    "        return 0.0, 0\n",
    "\n",
    "    dot = np.dot(matched1, matched2)\n",
    "    norm1 = np.linalg.norm(matched1)\n",
    "    norm2 = np.linalg.norm(matched2)\n",
    "    cosine_score = dot / (norm1 * norm2) if norm1 > 0 and norm2 > 0 else 0.0\n",
    "\n",
    "    return cosine_score, len(matched1)\n"
   ]
  },
  {
   "cell_type": "code",
   "execution_count": null,
   "id": "78abd9c9-9e3c-4fb8-a233-c356881535ea",
   "metadata": {},
   "outputs": [],
   "source": [
    "# === Match only if SMILES match ===\n",
    "results = []\n",
    "for exp in experimental_spectra:\n",
    "    fid = exp.get(\"feature_id\")\n",
    "    smiles = exp.get(\"target_smiles\")\n",
    "    mz_exp = exp.get(\"precursor_mz\")\n",
    "    rt = exp.get(\"retention_time\")\n",
    "\n",
    "    for ref in massbank_filtered:\n",
    "        if ref.get(\"smiles\") != smiles:\n",
    "            continue\n",
    "\n",
    "        mz_ref = ref.get(\"precursor_mz\")\n",
    "        if not mz_exp or not mz_ref:\n",
    "            continue\n",
    "\n",
    "        ppm_prec = abs(mz_exp - mz_ref) / mz_exp * 1e6\n",
    "        if ppm_prec > 5:\n",
    "            continue\n",
    "\n",
    "        score, n_matches = cosine_similarity_ppm(exp, ref)\n",
    "\n",
    "        if score >= 0.1 and n_matches >= 1:\n",
    "            results.append({\n",
    "                \"Feature_ID\": fid,\n",
    "                \"Experimental_mz\": mz_exp,\n",
    "                \"RT_min\": rt,\n",
    "                \"SMILES\": smiles,\n",
    "                \"MassBank_Name\": ref.get(\"compound_name\"),\n",
    "                \"MassBank_InChIKey\": ref.get(\"inchikey\"),\n",
    "                \"Cosine_Score\": round(score, 4),\n",
    "                \"Num_Matching_Peaks\": n_matches\n",
    "            })\n",
    "\n",
    "df = pd.DataFrame(results)\n",
    "print(df.head())  # See what actually got collected\n",
    "\n",
    "if not df.empty:\n",
    "    df.sort_values(\"Cosine_Score\", ascending=False).to_csv(\"2a_MassBank_Confirmed_By_SMILES.csv\", index=False)\n",
    "    print(f\"✅ Saved {len(df)} SMILES-matched spectral confirmations to '2a_MassBank_Confirmed_By_SMILES.csv'\")\n",
    "else:\n",
    "    print(\"⚠️ No matches found. Check filtering criteria or input data.\")\n",
    "\n",
    "# === Save ===\n",
    "pd.DataFrame(results).sort_values(\"Cosine_Score\", ascending=False).to_csv(\"2a_MassBank_Confirmed_By_SMILES.csv\", index=False)\n",
    "print(f\"✅ Saved {len(results)} SMILES-matched spectral confirmations to '2a_MassBank_Confirmed_By_SMILES.csv'\")"
   ]
  }
 ],
 "metadata": {
  "kernelspec": {
   "display_name": "Python 3 (ipykernel)",
   "language": "python",
   "name": "python3"
  },
  "language_info": {
   "codemirror_mode": {
    "name": "ipython",
    "version": 3
   },
   "file_extension": ".py",
   "mimetype": "text/x-python",
   "name": "python",
   "nbconvert_exporter": "python",
   "pygments_lexer": "ipython3",
   "version": "3.10.17"
  }
 },
 "nbformat": 4,
 "nbformat_minor": 5
}
